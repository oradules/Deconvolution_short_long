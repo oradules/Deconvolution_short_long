{
 "cells": [
  {
   "cell_type": "code",
   "execution_count": null,
   "metadata": {
    "scrolled": true
   },
   "outputs": [
    {
     "name": "stderr",
     "output_type": "stream",
     "text": [
      "\n",
      "Bad key \"text.kerning_factor\" on line 4 in\n",
      "/home/rachel/miniconda3/lib/python3.8/site-packages/matplotlib/mpl-data/stylelib/_classic_test_patch.mplstyle.\n",
      "You probably need to get an updated matplotlibrc file from\n",
      "https://github.com/matplotlib/matplotlib/blob/v3.1.3/matplotlibrc.template\n",
      "or from the matplotlib source distribution\n"
     ]
    },
    {
     "name": "stdout",
     "output_type": "stream",
     "text": [
      "result_HIVwt9.npz\n",
      "Tactive =  19185660.0 nnn =  0\n",
      "estp1  0.003314516782077386\n",
      "Fitting sum of two exponentials...\n"
     ]
    },
    {
     "name": "stderr",
     "output_type": "stream",
     "text": [
      "/home/rachel/Documents/Manuscript/noise2/fitSumOf2ExponentialsMain.py:43: RuntimeWarning: invalid value encountered in log\n",
      "  return np.concatenate((np.log((k[2]*np.exp(k[0]*xsg)+(1-k[2])*np.exp(k[1]*xsg))/eshort)/sNS*fact1,\n",
      "/home/rachel/Documents/Manuscript/noise2/fitSumOf2ExponentialsMain.py:44: RuntimeWarning: invalid value encountered in log\n",
      "  np.log((k[2]*np.exp(k[0]*xl)+ (1-k[2])*np.exp(k[1]*xl))/elong)/sNL*fact1,\n",
      "/home/rachel/Documents/Manuscript/noise2/fitSumOf2ExponentialsMain.py:44: RuntimeWarning: overflow encountered in exp\n",
      "  np.log((k[2]*np.exp(k[0]*xl)+ (1-k[2])*np.exp(k[1]*xl))/elong)/sNL*fact1,\n",
      "/home/rachel/Documents/Manuscript/noise2/fitSumOf2ExponentialsMain.py:46: RuntimeWarning: overflow encountered in exp\n",
      "  (k[2]*np.exp(k[0]*xl)+ (1-k[2])*np.exp(k[1]*xl)-elong)/sNL*fact2)) ### mixed\n",
      "/home/rachel/Documents/Manuscript/noise2/fitSumOf2ExponentialsMain.py:43: RuntimeWarning: overflow encountered in exp\n",
      "  return np.concatenate((np.log((k[2]*np.exp(k[0]*xsg)+(1-k[2])*np.exp(k[1]*xsg))/eshort)/sNS*fact1,\n",
      "/home/rachel/Documents/Manuscript/noise2/fitSumOf2ExponentialsMain.py:45: RuntimeWarning: overflow encountered in exp\n",
      "  (k[2]*np.exp(k[0]*xsg)+(1-k[2])*np.exp(k[1]*xsg)-eshort)/sNS*fact2,\n",
      "/home/rachel/Documents/Manuscript/noise2/fitSumOf2ExponentialsMain.py:44: RuntimeWarning: divide by zero encountered in log\n",
      "  np.log((k[2]*np.exp(k[0]*xl)+ (1-k[2])*np.exp(k[1]*xl))/elong)/sNL*fact1,\n",
      "/home/rachel/Documents/Manuscript/noise2/fitSumOf2ExponentialsMain.py:43: RuntimeWarning: divide by zero encountered in log\n",
      "  return np.concatenate((np.log((k[2]*np.exp(k[0]*xsg)+(1-k[2])*np.exp(k[1]*xsg))/eshort)/sNS*fact1,\n",
      "/home/rachel/Documents/Manuscript/noise2/fitSumOf2ExponentialsMain.py:44: RuntimeWarning: overflow encountered in true_divide\n",
      "  np.log((k[2]*np.exp(k[0]*xl)+ (1-k[2])*np.exp(k[1]*xl))/elong)/sNL*fact1,\n"
     ]
    }
   ],
   "source": [
    "from fit import *\n",
    "\n",
    "fitLong(path='/home/rachel/Documents/Manuscript/3StateArtificialDataGenerator/timeRes/tstep9_decon/resultDec/', \n",
    "    parameter='/home/rachel/Documents/Manuscript/3StateArtificialDataGenerator/timeRes/tstep9_decon/9sechivParameters.npz', \n",
    "    combined=0, \n",
    "    visualize=1, \n",
    "    outputpath='/home/rachel/Documents/Manuscript/3StateArtificialDataGenerator/timeRes/tstep9_decon/', \n",
    "    fit3exp=True)"
   ]
  },
  {
   "cell_type": "code",
   "execution_count": null,
   "metadata": {},
   "outputs": [],
   "source": []
  }
 ],
 "metadata": {
  "kernelspec": {
   "display_name": "Python 3",
   "language": "python",
   "name": "python3"
  },
  "language_info": {
   "codemirror_mode": {
    "name": "ipython",
    "version": 3
   },
   "file_extension": ".py",
   "mimetype": "text/x-python",
   "name": "python",
   "nbconvert_exporter": "python",
   "pygments_lexer": "ipython3",
   "version": "3.8.5"
  }
 },
 "nbformat": 4,
 "nbformat_minor": 4
}
